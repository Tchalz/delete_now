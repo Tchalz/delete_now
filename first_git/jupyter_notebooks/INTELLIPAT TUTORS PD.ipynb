{
 "cells": [
  {
   "cell_type": "code",
   "execution_count": 11,
   "metadata": {},
   "outputs": [],
   "source": [
    "# Pandas: is an open source python library used for data analysis and manipulation; PANDAS derived from the word panel data,\n",
    "# panel data is a multi dimensional data involving measurement over time.............wes mckinney created pandas \n",
    "\n",
    "# features of pandas:[series object and data frame--handling of missing data--data alignment--group by functionality--slicing,\n",
    "# indexing and subsetting--merging and joining--reshaping--hierichical labelling of axes--robust input output tool--time series \n",
    "# specific functionality]\n",
    "\n",
    "\n",
    "#       PANDAS VS NUMPY\n",
    "#1. pandas performs better than numpy for 500k rows or more, while numpy performs better for 50k rowsor less\n",
    "#2. pandas series object is more flexible as you can define your own label index to index and access elements of an array while \n",
    "# elements in numpy array are accessed by their default integer position\n",
    "\n",
    "# WHAT KIND OF DATA SUIT PANDAS THE MOST;\n",
    "#1.tabular data\n",
    "#2. arbitrary matrix\n",
    "#3. time series data\n",
    "\n",
    "# DATA STRUCTURES IN PANDAS(data sets in pandas)\n",
    "# one dimensional: series object\n",
    "# multi-dimensional: data frame(two dimensional) and panel data(three dimensional)\n",
    "\n",
    "# series object;one dimensional label array which contain data of similar or mixed type, e,g\n",
    "import pandas as pd\n",
    "data=[1,2,3,4,5,6]\n",
    "srs=pd.series(data), index=[\"a\",\"b\",\"c\",\"d\",\"e\",\"f\"]\n",
    "print(srs)\n",
    "print(type(srs))\n",
    "\n",
    "\n",
    "\n",
    "# Data frame; two dimensional data structures with columns of potentially different types \n",
    "# FEATURES OF DATA FRAME;(different column types, mutable sizes, lableed axes, arithmetic opeerations on rows and columns)\n"
   ]
  },
  {
   "cell_type": "code",
   "execution_count": 7,
   "metadata": {},
   "outputs": [],
   "source": [
    "import pandas as pd\n",
    "#titanic_crash=pd.read_csv(r\")"
   ]
  },
  {
   "cell_type": "code",
   "execution_count": 9,
   "metadata": {},
   "outputs": [],
   "source": [
    "# data=[1,2,3,4,5,6]\n",
    "# srs=pd.Series(data, index=[\"a\",\"b\",\"c\",\"d\",\"e\",\"f\"])\n",
    "# print(srs)\n",
    "# print(type(srs))"
   ]
  },
  {
   "cell_type": "code",
   "execution_count": null,
   "metadata": {},
   "outputs": [],
   "source": [
    "\n"
   ]
  }
 ],
 "metadata": {
  "kernelspec": {
   "display_name": "Python 3",
   "language": "python",
   "name": "python3"
  },
  "language_info": {
   "codemirror_mode": {
    "name": "ipython",
    "version": 3
   },
   "file_extension": ".py",
   "mimetype": "text/x-python",
   "name": "python",
   "nbconvert_exporter": "python",
   "pygments_lexer": "ipython3",
   "version": "3.7.4"
  }
 },
 "nbformat": 4,
 "nbformat_minor": 2
}
