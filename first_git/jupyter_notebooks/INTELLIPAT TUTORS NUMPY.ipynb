{
 "cells": [
  {
   "cell_type": "code",
   "execution_count": null,
   "metadata": {},
   "outputs": [],
   "source": []
  },
  {
   "cell_type": "markdown",
   "metadata": {},
   "source": [
    "## intellipat tutorial #######"
   ]
  },
  {
   "cell_type": "code",
   "execution_count": 1,
   "metadata": {},
   "outputs": [],
   "source": [
    "# what is data science? data science is applying science on data for it to talk to us, and it includes techniques such as data visualization,\n",
    "# data manipulation, statistical analysis and machine learning.\n",
    "# data visualization: science and design combined in a meaningful way to interpret the data through graphs and plots\n",
    "# data manipulation: is used to change the raw data and make it more organised, so that finding insights into the data becomes easy\n",
    "# statistical analysis: Applying maths to data to understand the structure of data\n",
    "# machine learning: the art of training a machine to learn and understand the features of an object\n",
    "\n",
    "\n",
    "#LIFE CYCLE OF DATA SCIENCE:\n",
    "# data acquisition---data pre-processing---model building---pattern evaluation---knowledge representation\n",
    "# data acquisition: getting data from different sources, storing it in a location(data warehouse), and then select the data needed(target data)\n",
    "# data pre-processing: applying processes such as normalization and aggregation\n",
    "# model-building: applying scientific algorithm such as linear regression, k-means and random forest to the pre-processed data\n",
    "# pattern evaluation\n",
    "# knowledge representation: using graphs and plots\n",
    "\n",
    "# APPLICATION OF DATA SCIENCE\n",
    "# chat bots, self driving cars, sentiments analysis(retail industries, elections), image tagging(facebook)\n",
    "\n"
   ]
  },
  {
   "cell_type": "markdown",
   "metadata": {},
   "source": [
    "# numpy tutorial ###"
   ]
  },
  {
   "cell_type": "code",
   "execution_count": 2,
   "metadata": {},
   "outputs": [
    {
     "name": "stdout",
     "output_type": "stream",
     "text": [
      "[1 2 3 4 5]\n",
      "[20 30 40 50]\n"
     ]
    }
   ],
   "source": [
    "  # CREATE NUMPY ARRAYS\n",
    "import numpy as np\n",
    "a = np.array([1,2,3,4,5])\n",
    "b = np.array([20, 30, 40, 50])\n",
    "print(a)\n",
    "print(b)"
   ]
  },
  {
   "cell_type": "code",
   "execution_count": 25,
   "metadata": {},
   "outputs": [
    {
     "data": {
      "text/plain": [
       "9000"
      ]
     },
     "execution_count": 25,
     "metadata": {},
     "output_type": "execute_result"
    }
   ],
   "source": [
    "b[1] = 9000\n",
    "b[1]"
   ]
  },
  {
   "cell_type": "code",
   "execution_count": 57,
   "metadata": {},
   "outputs": [
    {
     "data": {
      "text/plain": [
       "array([[1, 2, 3, 4, 5, 6]])"
      ]
     },
     "execution_count": 57,
     "metadata": {},
     "output_type": "execute_result"
    }
   ],
   "source": [
    "c = np.array([[1,2,3,4,5,6],[20,10,30,40,50,30], [0, 3, 4, 5, 6,7]])\n",
    "a[1:2]\n",
    "a[1:3]\n",
    "a[:4]\n",
    "c[:1]"
   ]
  },
  {
   "cell_type": "code",
   "execution_count": 76,
   "metadata": {},
   "outputs": [
    {
     "data": {
      "text/plain": [
       "array([10. , 12.5, 15. , 17.5, 20. ])"
      ]
     },
     "execution_count": 76,
     "metadata": {},
     "output_type": "execute_result"
    }
   ],
   "source": [
    "np.zeros((5,6))\n",
    "np.arange(10,200,5)\n",
    "np.linspace(10,20,5)"
   ]
  },
  {
   "cell_type": "code",
   "execution_count": 81,
   "metadata": {},
   "outputs": [
    {
     "data": {
      "text/plain": [
       "array([[20, 20, 20, 20, 20, 20, 20, 20, 20, 20],\n",
       "       [20, 20, 20, 20, 20, 20, 20, 20, 20, 20],\n",
       "       [20, 20, 20, 20, 20, 20, 20, 20, 20, 20]])"
      ]
     },
     "execution_count": 81,
     "metadata": {},
     "output_type": "execute_result"
    }
   ],
   "source": [
    "np.full((3,10),20) #(row, column, number to fill up)"
   ]
  },
  {
   "cell_type": "code",
   "execution_count": 89,
   "metadata": {},
   "outputs": [
    {
     "data": {
      "text/plain": [
       "array([[0.38965773, 0.25523713, 0.0635973 , 0.00499947, 0.95099447,\n",
       "        0.14411535, 0.51596622, 0.76366771, 0.37669685, 0.20765976],\n",
       "       [0.19634847, 0.57948504, 0.30974081, 0.59834778, 0.63242687,\n",
       "        0.84773878, 0.38735612, 0.22942415, 0.92184274, 0.14822343],\n",
       "       [0.90845841, 0.0580353 , 0.73926766, 0.71744493, 0.88736312,\n",
       "        0.73739443, 0.18108389, 0.14205829, 0.35234833, 0.21489961],\n",
       "       [0.17419631, 0.855532  , 0.51243007, 0.34971183, 0.61684749,\n",
       "        0.10545178, 0.37620369, 0.83639752, 0.51140429, 0.65659994]])"
      ]
     },
     "execution_count": 89,
     "metadata": {},
     "output_type": "execute_result"
    }
   ],
   "source": [
    "np.random.random((4,10))"
   ]
  },
  {
   "cell_type": "markdown",
   "metadata": {},
   "source": [
    "# ND ARRAY SHAPE"
   ]
  },
  {
   "cell_type": "code",
   "execution_count": 92,
   "metadata": {},
   "outputs": [
    {
     "data": {
      "text/plain": [
       "array([[ 2,  3,  4,  5,  6],\n",
       "       [10, 20, 30, 40, 50],\n",
       "       [20, 50, 60, 70, 90]])"
      ]
     },
     "execution_count": 92,
     "metadata": {},
     "output_type": "execute_result"
    }
   ],
   "source": [
    "chibuzor = np.array([[2,3,4,5,6],[10,20,30,40,50],[20,50,60,70,90]])\n",
    "chibuzor"
   ]
  },
  {
   "cell_type": "code",
   "execution_count": 93,
   "metadata": {},
   "outputs": [
    {
     "data": {
      "text/plain": [
       "(3, 5)"
      ]
     },
     "execution_count": 93,
     "metadata": {},
     "output_type": "execute_result"
    }
   ],
   "source": [
    "chibuzor.shape"
   ]
  },
  {
   "cell_type": "code",
   "execution_count": 123,
   "metadata": {},
   "outputs": [
    {
     "data": {
      "text/plain": [
       "2"
      ]
     },
     "execution_count": 123,
     "metadata": {},
     "output_type": "execute_result"
    }
   ],
   "source": [
    "chibuzor.shape = (5,3)\n",
    "chibuzor.ndim"
   ]
  },
  {
   "cell_type": "code",
   "execution_count": 111,
   "metadata": {},
   "outputs": [
    {
     "data": {
      "text/plain": [
       "3"
      ]
     },
     "execution_count": 111,
     "metadata": {},
     "output_type": "execute_result"
    }
   ],
   "source": [
    "chibuzor.shape[0]#ie shape(5,3)  5=0, 3=1\n",
    "chibuzor\n",
    "chibuzor.shape[1]"
   ]
  },
  {
   "cell_type": "code",
   "execution_count": 126,
   "metadata": {},
   "outputs": [
    {
     "data": {
      "text/plain": [
       "dtype('int32')"
      ]
     },
     "execution_count": 126,
     "metadata": {},
     "output_type": "execute_result"
    }
   ],
   "source": [
    "chibuzor.size\n",
    "chibuzor.dtype\n",
    "#chibuzor"
   ]
  },
  {
   "cell_type": "code",
   "execution_count": 128,
   "metadata": {},
   "outputs": [
    {
     "name": "stdout",
     "output_type": "stream",
     "text": [
      "[ 10.  20.  30.  40.  50.  60.  70.  80.  90. 100.]\n",
      "float64\n"
     ]
    }
   ],
   "source": [
    "chibuzor = np.linspace(10,100,10)\n",
    "print(chibuzor)\n",
    "print(chibuzor.dtype)"
   ]
  },
  {
   "cell_type": "markdown",
   "metadata": {},
   "source": [
    "## MATHS IN NUMPY"
   ]
  },
  {
   "cell_type": "code",
   "execution_count": 129,
   "metadata": {},
   "outputs": [
    {
     "data": {
      "text/plain": [
       "140"
      ]
     },
     "execution_count": 129,
     "metadata": {},
     "output_type": "execute_result"
    }
   ],
   "source": [
    "chibuzor = np.sum([20,30,40,50])\n",
    "chibuzor"
   ]
  },
  {
   "cell_type": "code",
   "execution_count": 131,
   "metadata": {},
   "outputs": [
    {
     "data": {
      "text/plain": [
       "2090"
      ]
     },
     "execution_count": 131,
     "metadata": {},
     "output_type": "execute_result"
    }
   ],
   "source": [
    "a,b,c,d=20,30,40,2000\n",
    "np.sum([a,b,c,d])"
   ]
  },
  {
   "cell_type": "code",
   "execution_count": 134,
   "metadata": {},
   "outputs": [
    {
     "data": {
      "text/plain": [
       "array([ 14, 110])"
      ]
     },
     "execution_count": 134,
     "metadata": {},
     "output_type": "execute_result"
    }
   ],
   "source": [
    "np.sum([[2,3,4,5],[10,30,20,50]], axis=0)\n",
    "np.sum([[2,3,4,5],[10,30,20,50]], axis=1)"
   ]
  },
  {
   "cell_type": "code",
   "execution_count": 162,
   "metadata": {},
   "outputs": [
    {
     "name": "stdout",
     "output_type": "stream",
     "text": [
      "[-1 -3 -4]\n"
     ]
    }
   ],
   "source": [
    "a=[1,2,3]\n",
    "b=[2,5,7]\n",
    "print(np.subtract(a,b))\n"
   ]
  },
  {
   "cell_type": "code",
   "execution_count": 231,
   "metadata": {},
   "outputs": [
    {
     "name": "stdout",
     "output_type": "stream",
     "text": [
      "[[ 5 20]\n",
      " [ 4  8]]\n",
      "[[10 20]\n",
      " [ 2  6]]\n",
      "[[15 40]\n",
      " [ 6 14]]\n",
      "[[ 9 28]\n",
      " [12 26]]\n"
     ]
    }
   ],
   "source": [
    "# a=np.array([5,20])\n",
    "# b=np.array([10,20])\n",
    "# print(a)\n",
    "# print(b)\n",
    "# np.subtract(a,b)\n",
    "# x = np.sum([a,b], axis=0)\n",
    "# y = np.sum([a,b], axis=1)\n",
    "# print(x)\n",
    "# print(y)\n",
    "\n",
    "a = np.array([[5,20],[4,8]])\n",
    "b = np.array([[10,20],[2,6]])\n",
    "print(a)\n",
    "print(b)\n",
    "np.subtract(a,b)\n",
    "print(np.sum([a,b], axis=0))\n",
    "print(np.sum([a,b], axis=1))"
   ]
  },
  {
   "cell_type": "code",
   "execution_count": 199,
   "metadata": {},
   "outputs": [
    {
     "name": "stdout",
     "output_type": "stream",
     "text": [
      "[10 40]\n",
      "[5 8]\n"
     ]
    }
   ],
   "source": [
    "a=np.array([10, 40])\n",
    "b=np.array([5,8])\n",
    "print(a)\n",
    "print(b)"
   ]
  },
  {
   "cell_type": "code",
   "execution_count": 204,
   "metadata": {},
   "outputs": [
    {
     "name": "stdout",
     "output_type": "stream",
     "text": [
      "[2. 5.]\n"
     ]
    }
   ],
   "source": [
    "print(np.divide(a,b))"
   ]
  },
  {
   "cell_type": "code",
   "execution_count": 205,
   "metadata": {},
   "outputs": [
    {
     "name": "stdout",
     "output_type": "stream",
     "text": [
      "[ 50 320]\n"
     ]
    }
   ],
   "source": [
    "print(np.multiply(a,b))"
   ]
  },
  {
   "cell_type": "code",
   "execution_count": 209,
   "metadata": {},
   "outputs": [
    {
     "name": "stdout",
     "output_type": "stream",
     "text": [
      "[2.20264658e+04 2.35385267e+17]\n"
     ]
    }
   ],
   "source": [
    "print(np.exp(a))"
   ]
  },
  {
   "cell_type": "code",
   "execution_count": 210,
   "metadata": {},
   "outputs": [
    {
     "name": "stdout",
     "output_type": "stream",
     "text": [
      "[ 148.4131591  2980.95798704]\n"
     ]
    }
   ],
   "source": [
    "print(np.exp(b))"
   ]
  },
  {
   "cell_type": "code",
   "execution_count": 211,
   "metadata": {},
   "outputs": [
    {
     "name": "stdout",
     "output_type": "stream",
     "text": [
      "[3.16227766 6.32455532]\n"
     ]
    }
   ],
   "source": [
    "print(np.sqrt(a))"
   ]
  },
  {
   "cell_type": "code",
   "execution_count": 212,
   "metadata": {},
   "outputs": [
    {
     "name": "stdout",
     "output_type": "stream",
     "text": [
      "[2.23606798 2.82842712]\n"
     ]
    }
   ],
   "source": [
    "print(np.sqrt(b))"
   ]
  },
  {
   "cell_type": "code",
   "execution_count": 213,
   "metadata": {},
   "outputs": [
    {
     "name": "stdout",
     "output_type": "stream",
     "text": [
      "[-0.54402111  0.74511316]\n"
     ]
    }
   ],
   "source": [
    "print(np.sin(a))"
   ]
  },
  {
   "cell_type": "code",
   "execution_count": 214,
   "metadata": {},
   "outputs": [
    {
     "name": "stdout",
     "output_type": "stream",
     "text": [
      "[-0.95892427  0.98935825]\n"
     ]
    }
   ],
   "source": [
    "print(np.sin(b))"
   ]
  },
  {
   "cell_type": "code",
   "execution_count": 215,
   "metadata": {},
   "outputs": [
    {
     "name": "stdout",
     "output_type": "stream",
     "text": [
      "[2.30258509 3.68887945]\n"
     ]
    }
   ],
   "source": [
    "print(np.log(a))"
   ]
  },
  {
   "cell_type": "code",
   "execution_count": 216,
   "metadata": {},
   "outputs": [
    {
     "name": "stdout",
     "output_type": "stream",
     "text": [
      "[1.60943791 2.07944154]\n"
     ]
    }
   ],
   "source": [
    "print(np.log(b))"
   ]
  },
  {
   "cell_type": "markdown",
   "metadata": {},
   "source": [
    "## ARRAY COMPARISON"
   ]
  },
  {
   "cell_type": "code",
   "execution_count": 220,
   "metadata": {},
   "outputs": [
    {
     "name": "stdout",
     "output_type": "stream",
     "text": [
      "[ True False False]\n",
      "[ True  True False]\n",
      "True\n"
     ]
    }
   ],
   "source": [
    "a=[2,3,4]\n",
    "b=[2,1,5]\n",
    "c=[2,3,5]\n",
    "d=[2,3,4]\n",
    "print(np.equal(a,b))\n",
    "print(np.equal(a,c))\n",
    "print(np.array_equal(a,d))"
   ]
  },
  {
   "cell_type": "markdown",
   "metadata": {},
   "source": [
    "## AGGREGATE FUNCTION"
   ]
  },
  {
   "cell_type": "code",
   "execution_count": 223,
   "metadata": {},
   "outputs": [
    {
     "name": "stdout",
     "output_type": "stream",
     "text": [
      "19\n",
      "2\n",
      "5\n",
      "3.1666666666666665\n",
      "3.0\n",
      "1.0671873729054748\n",
      "[[1.         0.98198051]\n",
      " [0.98198051 1.        ]]\n"
     ]
    }
   ],
   "source": [
    "a=([2,3,4],[2,3,5])\n",
    "b=[2,1,5]\n",
    "c=[2,3,5]\n",
    "d=[2,3,4]\n",
    "print(np.sum(a))\n",
    "print(np.min(a))\n",
    "print(np.max(a))\n",
    "print(np.mean(a))\n",
    "print(np.median(a))\n",
    "print(np.std(a))\n",
    "print(np.corrcoef(a))"
   ]
  },
  {
   "cell_type": "markdown",
   "metadata": {},
   "source": [
    "## CONCEPT OF BROADCASTING"
   ]
  },
  {
   "cell_type": "code",
   "execution_count": 233,
   "metadata": {},
   "outputs": [
    {
     "name": "stdout",
     "output_type": "stream",
     "text": [
      "[[1 2 3 4]\n",
      " [2 4 6 7]]\n",
      "[4 3 2 7]\n",
      "[[-3 -1  1 -3]\n",
      " [-2  1  4  0]]\n",
      "[[ 5  5  5 11]\n",
      " [ 6  7  8 14]]\n"
     ]
    }
   ],
   "source": [
    "a=np.array([[1,2,3,4],[2,4,6,7]])\n",
    "b=np.array([4,3,2,7])\n",
    "print(a)\n",
    "print(b)\n",
    "print(np.subtract(a,b))\n",
    "print(np.sum([a,b]))"
   ]
  },
  {
   "cell_type": "markdown",
   "metadata": {},
   "source": [
    "## INDEXING AND SLICING IN PYTHON"
   ]
  },
  {
   "cell_type": "code",
   "execution_count": 34,
   "metadata": {},
   "outputs": [
    {
     "name": "stdout",
     "output_type": "stream",
     "text": [
      "[[3 4 5]\n",
      " [7 9 1]]\n"
     ]
    }
   ],
   "source": [
    "a = np.array([[1,2,3,4,5],[2,5,7,9,1],[3,0,7,6,5]])\n",
    "#print(a)\n",
    "#print(a[1:,])\n",
    "# print(a[:1])\n",
    "print(a[:2,2:])\n",
    "#print(a[2:,:3])"
   ]
  },
  {
   "cell_type": "markdown",
   "metadata": {},
   "source": [
    "## ARRAY MANIPULATION IN PYTHON"
   ]
  },
  {
   "cell_type": "code",
   "execution_count": 14,
   "metadata": {},
   "outputs": [
    {
     "name": "stdout",
     "output_type": "stream",
     "text": [
      "concatenation.......\n",
      "[[1 2 4]\n",
      " [2 3 4]\n",
      " [2 4 4]\n",
      " [5 6 7]]\n",
      "vertical stacking......\n",
      "[[1 2 4]\n",
      " [2 3 4]\n",
      " [2 4 4]\n",
      " [5 6 7]]\n",
      "horizontal stacking......\n",
      "[[1 2 4 2 4 4]\n",
      " [2 3 4 5 6 7]]\n",
      "column_stacking......\n",
      "[[1 2 4 2 4 4]\n",
      " [2 3 4 5 6 7]]\n",
      "[[1 2 4]\n",
      " [2 3 4]\n",
      " [2 4 4]\n",
      " [5 6 7]]\n",
      "[[1 2 4 2 4 4]\n",
      " [2 3 4 5 6 7]]\n"
     ]
    }
   ],
   "source": [
    "a = ([1,2,4],[2,3,4])\n",
    "b = ([2,4,4],[5,6,7])\n",
    "print(\"concatenation.......\")\n",
    "print(np.concatenate((a,b), axis=0))\n",
    "print(\"vertical stacking......\")\n",
    "print(np.vstack((a,b)))\n",
    "print(\"horizontal stacking......\")\n",
    "print(np.hstack((a,b)))\n",
    "print(\"column_stacking......\")\n",
    "print(np.column_stack((a,b)))\n",
    "print(np.concatenate(([a,b]), axis=0))\n",
    "print(np.concatenate(([a,b]), axis=1))\n",
    "\n"
   ]
  },
  {
   "cell_type": "code",
   "execution_count": 22,
   "metadata": {},
   "outputs": [
    {
     "name": "stdout",
     "output_type": "stream",
     "text": [
      "[[ 0.  1.  2.  3.]\n",
      " [ 4.  5.  6.  7.]\n",
      " [ 8.  9. 10. 11.]\n",
      " [12. 13. 14. 15.]] \n",
      "\n",
      "\n",
      "[array([[ 0.,  1.],\n",
      "       [ 4.,  5.],\n",
      "       [ 8.,  9.],\n",
      "       [12., 13.]]), array([[ 2.,  3.],\n",
      "       [ 6.,  7.],\n",
      "       [10., 11.],\n",
      "       [14., 15.]])] \n",
      "\n",
      "\n",
      "[array([[ 0.,  1.,  2.],\n",
      "       [ 4.,  5.,  6.],\n",
      "       [ 8.,  9., 10.],\n",
      "       [12., 13., 14.]]), array([[ 3.],\n",
      "       [ 7.],\n",
      "       [11.],\n",
      "       [15.]]), array([], shape=(4, 0), dtype=float64)]\n"
     ]
    }
   ],
   "source": [
    "x=np.arange(16.0).reshape(4,4)\n",
    "print(x,\"\\n\\n\")\n",
    "print(np.hsplit(x, 2), \"\\n\\n\")\n",
    "print(np.hsplit(x, np.array([3,6])))\n"
   ]
  },
  {
   "cell_type": "code",
   "execution_count": null,
   "metadata": {},
   "outputs": [],
   "source": []
  }
 ],
 "metadata": {
  "kernelspec": {
   "display_name": "Python 3",
   "language": "python",
   "name": "python3"
  },
  "language_info": {
   "codemirror_mode": {
    "name": "ipython",
    "version": 3
   },
   "file_extension": ".py",
   "mimetype": "text/x-python",
   "name": "python",
   "nbconvert_exporter": "python",
   "pygments_lexer": "ipython3",
   "version": "3.7.4"
  }
 },
 "nbformat": 4,
 "nbformat_minor": 2
}
